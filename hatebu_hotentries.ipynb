{
 "cells": [
  {
   "cell_type": "code",
   "execution_count": null,
   "metadata": {},
   "outputs": [],
   "source": [
    "// はてなブックマークの本日の人気エントリ一覧を取得"
   ]
  },
  {
   "cell_type": "code",
   "execution_count": 1,
   "metadata": {},
   "outputs": [],
   "source": [
    "import requests\n",
    "from bs4 import BeautifulSoup\n",
    "\n",
    "# はてブのページのテキストを取得\n",
    "# getメソッドは、引数にURLを指定することで、webページにアクセスしてサーバーからのレスポンスを取得\n",
    "r = requests.get('http://b.hatena.ne.jp/')\n",
    "content = r.content\n",
    "# BeautifulSoupのhtml.parserで解析\n",
    "soup = BeautifulSoup(content, 'html.parser')"
   ]
  },
  {
   "cell_type": "code",
   "execution_count": 2,
   "metadata": {},
   "outputs": [
    {
     "data": {
      "text/plain": [
       "bs4.BeautifulSoup"
      ]
     },
     "execution_count": 2,
     "metadata": {},
     "output_type": "execute_result"
    }
   ],
   "source": [
    "type(soup)"
   ]
  },
  {
   "cell_type": "code",
   "execution_count": 3,
   "metadata": {},
   "outputs": [
    {
     "data": {
      "text/plain": [
       "bs4.element.Tag"
      ]
     },
     "execution_count": 3,
     "metadata": {},
     "output_type": "execute_result"
    }
   ],
   "source": [
    "# class要素が\"hotentries\"を含む要素を抽出し、「今日のエントリー」の部分を取得\n",
    "import re\n",
    "hotentries = soup.find(class_=re.compile(\"hotentries\"))\n",
    "type(hotentries)"
   ]
  },
  {
   "cell_type": "code",
   "execution_count": 4,
   "metadata": {},
   "outputs": [
    {
     "data": {
      "text/plain": [
       "bs4.element.ResultSet"
      ]
     },
     "execution_count": 4,
     "metadata": {},
     "output_type": "execute_result"
    }
   ],
   "source": [
    "# さらにclass要素に\"entrylist-contents-main\"を含むものを抽出\n",
    "elems = hotentries.find_all(class_=re.compile('entrylist-contents-main'))\n",
    "type(elems)"
   ]
  },
  {
   "cell_type": "code",
   "execution_count": 5,
   "metadata": {},
   "outputs": [
    {
     "data": {
      "text/plain": [
       "[]"
      ]
     },
     "execution_count": 5,
     "metadata": {},
     "output_type": "execute_result"
    }
   ],
   "source": [
    "# find,find_allではなくselectで必要箇所を抽出してみる\n",
    "select_elems=soup.select('ul.entrylist-item js-hotentries')\n",
    "select_elems"
   ]
  },
  {
   "cell_type": "code",
   "execution_count": 6,
   "metadata": {},
   "outputs": [
    {
     "name": "stdout",
     "output_type": "stream",
     "text": [
      "\n",
      "プライムデーのKindle本から使い勝手の良い6冊 - 本しゃぶり\n",
      "https://honeshabri.hatenablog.com/entry/hayakawa-prime\n",
      "784 users\n",
      "\n",
      "3大カッコいい科学用語 ゲシュタルト崩壊 シュレディンガーの猫...\n",
      "https://anond.hatelabo.jp/20210621123615\n",
      "251 users\n",
      "\n",
      "ＩＯＣが選手村でのウーバーイーツ容認を要求　組織委は中身確...\n",
      "https://news.yahoo.co.jp/articles/67f86b6fd8b0aea7e9fbbce0a7fef560420176de\n",
      "366 users\n",
      "\n",
      "脱北ヒロイン 米エリート校に広がる“お目覚め文化”に「北朝鮮と...\n",
      "https://courrier.jp/news/archives/250181/\n",
      "318 users\n",
      "\n",
      "BUKUMANGA\n",
      "https://bukumanga.com/\n",
      "924 users\n",
      "\n",
      "新型コロナワクチンの長期的な安全性の懸念は？(忽那賢志) - 個...\n",
      "https://news.yahoo.co.jp/byline/kutsunasatoshi/20210621-00243916/\n",
      "294 users\n",
      "\n",
      "ずっと無料で使えるクラウドの「Free Tier」主要サービスまとめ...\n",
      "https://www.publickey1.jp/blog/21/free_tier2021.html\n",
      "505 users\n",
      "\n",
      "「ネトウヨ化」した母にゲイだと打ち明けて気づいたこと（富岡 ...\n",
      "https://gendai.ismedia.jp/articles/-/84359\n",
      "208 users\n"
     ]
    }
   ],
   "source": [
    "for div in elems:\n",
    "    title = div.h3\n",
    "    url = div.a\n",
    "    user = div.span\n",
    "    user_num = user.getText().split(\" \")\n",
    "    \n",
    "    if int(user_num[0]) >= 20:\n",
    "        print(title.getText(),end=\"\")\n",
    "        print(url.get('href'),end=\"\")\n",
    "        print(user.getText(),end=\"\")\n",
    "    else:\n",
    "        next"
   ]
  },
  {
   "cell_type": "code",
   "execution_count": null,
   "metadata": {},
   "outputs": [],
   "source": []
  }
 ],
 "metadata": {
  "kernelspec": {
   "display_name": "Python 3",
   "language": "python",
   "name": "python3"
  },
  "language_info": {
   "codemirror_mode": {
    "name": "ipython",
    "version": 3
   },
   "file_extension": ".py",
   "mimetype": "text/x-python",
   "name": "python",
   "nbconvert_exporter": "python",
   "pygments_lexer": "ipython3",
   "version": "3.8.3"
  }
 },
 "nbformat": 4,
 "nbformat_minor": 4
}
