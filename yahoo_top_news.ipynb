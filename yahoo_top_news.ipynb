{
 "cells": [
  {
   "cell_type": "code",
   "execution_count": null,
   "metadata": {},
   "outputs": [],
   "source": [
    "https://joho-ka.mints.ne.jp/scraping-yahoo-top-news?doing_wp_cron=1619058227.6904020309448242187500"
   ]
  },
  {
   "cell_type": "code",
   "execution_count": 1,
   "metadata": {},
   "outputs": [],
   "source": [
    "import requests\n",
    "from bs4 import BeautifulSoup\n",
    "import re\n",
    "\n",
    "url = 'https://www.yahoo.co.jp/'\n",
    "res = requests.get( url )\n",
    "soup = BeautifulSoup( res.text, 'html.parser' )\n",
    "\n",
    "elements = soup.find_all( href = re.compile( 'news.yahoo.co.jp/pickup' ) )\n"
   ]
  },
  {
   "cell_type": "code",
   "execution_count": 2,
   "metadata": {},
   "outputs": [
    {
     "data": {
      "text/plain": [
       "[<a class=\"yMWCYupQNdgppL-NV6sMi _3sAlKGsIBCxTUbNi86oSjt\" data-ual-gotocontent=\"true\" data-ylk=\"rsec:tpto;slk:title;pos:1;tpid:6391310;imgsize:s;cmt_num:2015\" href=\"https://news.yahoo.co.jp/pickup/6391310\"><div class=\"_2cXD1uC4eaOih4-zkRgqjU\"><div class=\"TRuzXRRZHRqbqgLUCCco9\"><h1 class=\"_3cl937Zpn1ce8mDKd5kp7u\"><span class=\"fQMqQTGJTbIMxjQwZA2zk _3tGRl6x9iIWRiFTkKl3kcR\">まん延防止試み挫折 再々宣言へ</span></h1></div></div></a>,\n",
       " <a class=\"yMWCYupQNdgppL-NV6sMi _3sAlKGsIBCxTUbNi86oSjt\" data-ual-gotocontent=\"true\" data-ylk=\"rsec:tpto;slk:title;pos:2;tpid:6391316;imgsize:s;cmt_num:1001\" href=\"https://news.yahoo.co.jp/pickup/6391316\"><div class=\"_2cXD1uC4eaOih4-zkRgqjU\"><div class=\"TRuzXRRZHRqbqgLUCCco9\"><h1 class=\"_3cl937Zpn1ce8mDKd5kp7u\"><span class=\"fQMqQTGJTbIMxjQwZA2zk _3tGRl6x9iIWRiFTkKl3kcR\">東京 感染1日1000人超え現実味</span></h1><span class=\"_2obRU_TgAxzHaYqOXrZYlv\"><span class=\"h4yLXygiSc5wwNlJOQEdz _1dr5aVDbNPF63JCS2bJhij _2M3AyDfFaeJl3Uo7lUPMAp\" style=\"width:30px;height:12px\">NEW</span></span></div></div></a>,\n",
       " <a class=\"yMWCYupQNdgppL-NV6sMi _3sAlKGsIBCxTUbNi86oSjt\" data-ual-gotocontent=\"true\" data-ylk=\"rsec:tpto;slk:title;pos:3;tpid:6391320;imgsize:s;cmt_num:57\" href=\"https://news.yahoo.co.jp/pickup/6391320\"><div class=\"_2cXD1uC4eaOih4-zkRgqjU\"><div class=\"TRuzXRRZHRqbqgLUCCco9\"><h1 class=\"_3cl937Zpn1ce8mDKd5kp7u\"><span class=\"fQMqQTGJTbIMxjQwZA2zk _3tGRl6x9iIWRiFTkKl3kcR\">シリアがイスラエル攻撃 報復も</span></h1><span class=\"_2obRU_TgAxzHaYqOXrZYlv\"><span class=\"h4yLXygiSc5wwNlJOQEdz _1dr5aVDbNPF63JCS2bJhij _2M3AyDfFaeJl3Uo7lUPMAp\" style=\"width:30px;height:12px\">NEW</span></span></div></div></a>,\n",
       " <a class=\"yMWCYupQNdgppL-NV6sMi _3sAlKGsIBCxTUbNi86oSjt\" data-ual-gotocontent=\"true\" data-ylk=\"rsec:tpto;slk:title;pos:4;tpid:6391315;imgsize:s;cmt_num:165\" href=\"https://news.yahoo.co.jp/pickup/6391315\"><div class=\"_2cXD1uC4eaOih4-zkRgqjU\"><div class=\"TRuzXRRZHRqbqgLUCCco9\"><h1 class=\"_3cl937Zpn1ce8mDKd5kp7u\"><span class=\"fQMqQTGJTbIMxjQwZA2zk _3tGRl6x9iIWRiFTkKl3kcR\">東京など夏日予想 熱中症に注意</span></h1></div></div></a>,\n",
       " <a class=\"yMWCYupQNdgppL-NV6sMi _3sAlKGsIBCxTUbNi86oSjt\" data-ual-gotocontent=\"true\" data-ylk=\"rsec:tpto;slk:title;pos:5;tpid:6391305;imgsize:s;cmt_num:716\" href=\"https://news.yahoo.co.jp/pickup/6391305\"><div class=\"_2cXD1uC4eaOih4-zkRgqjU\"><div class=\"TRuzXRRZHRqbqgLUCCco9\"><h1 class=\"_3cl937Zpn1ce8mDKd5kp7u\"><span class=\"fQMqQTGJTbIMxjQwZA2zk _3tGRl6x9iIWRiFTkKl3kcR\">CO2で4人死亡 誤信号で作動か</span></h1></div></div></a>,\n",
       " <a class=\"yMWCYupQNdgppL-NV6sMi _3sAlKGsIBCxTUbNi86oSjt\" data-ual-gotocontent=\"true\" data-ylk=\"rsec:tpto;slk:title;pos:6;tpid:6391306;imgsize:s;cmt_num:342\" href=\"https://news.yahoo.co.jp/pickup/6391306\"><div class=\"_2cXD1uC4eaOih4-zkRgqjU\"><div class=\"TRuzXRRZHRqbqgLUCCco9\"><h1 class=\"_3cl937Zpn1ce8mDKd5kp7u\"><span class=\"fQMqQTGJTbIMxjQwZA2zk _3tGRl6x9iIWRiFTkKl3kcR\">柴又 道路拡幅で街並み一変か</span></h1></div></div></a>,\n",
       " <a class=\"yMWCYupQNdgppL-NV6sMi _3sAlKGsIBCxTUbNi86oSjt\" data-ual-gotocontent=\"true\" data-ylk=\"rsec:tpto;slk:title;pos:7;tpid:6391318;imgsize:s;cmt_num:64\" href=\"https://news.yahoo.co.jp/pickup/6391318\"><div class=\"_2cXD1uC4eaOih4-zkRgqjU\"><div class=\"TRuzXRRZHRqbqgLUCCco9\"><h1 class=\"_3cl937Zpn1ce8mDKd5kp7u\"><span class=\"fQMqQTGJTbIMxjQwZA2zk _3tGRl6x9iIWRiFTkKl3kcR\">世界最高水準の人工光合成 成功</span></h1><span class=\"_2obRU_TgAxzHaYqOXrZYlv\"><span class=\"h4yLXygiSc5wwNlJOQEdz _1dr5aVDbNPF63JCS2bJhij _2M3AyDfFaeJl3Uo7lUPMAp\" style=\"width:30px;height:12px\">NEW</span></span></div></div></a>,\n",
       " <a class=\"yMWCYupQNdgppL-NV6sMi _3sAlKGsIBCxTUbNi86oSjt\" data-ual-gotocontent=\"true\" data-ylk=\"rsec:tpto;slk:title;pos:8;tpid:6391319;imgsize:s;cmt_num:35\" href=\"https://news.yahoo.co.jp/pickup/6391319\"><div class=\"_2cXD1uC4eaOih4-zkRgqjU\"><div class=\"TRuzXRRZHRqbqgLUCCco9\"><h1 class=\"_3cl937Zpn1ce8mDKd5kp7u\"><span class=\"fQMqQTGJTbIMxjQwZA2zk _3tGRl6x9iIWRiFTkKl3kcR\">中村仁美 母も父も「えらい」</span></h1><span class=\"_2obRU_TgAxzHaYqOXrZYlv\"><span class=\"h4yLXygiSc5wwNlJOQEdz _1dr5aVDbNPF63JCS2bJhij _2M3AyDfFaeJl3Uo7lUPMAp\" style=\"width:30px;height:12px\">NEW</span></span></div></div></a>]"
      ]
     },
     "execution_count": 2,
     "metadata": {},
     "output_type": "execute_result"
    }
   ],
   "source": [
    "elements"
   ]
  },
  {
   "cell_type": "code",
   "execution_count": 4,
   "metadata": {},
   "outputs": [
    {
     "data": {
      "text/plain": [
       "'まん延防止試み挫折 再々宣言へ'"
      ]
     },
     "execution_count": 4,
     "metadata": {},
     "output_type": "execute_result"
    }
   ],
   "source": [
    "elements[0].getText()"
   ]
  },
  {
   "cell_type": "code",
   "execution_count": 5,
   "metadata": {},
   "outputs": [
    {
     "name": "stdout",
     "output_type": "stream",
     "text": [
      "'まん延防止試み挫折 再々宣言へ','https://news.yahoo.co.jp/pickup/6391310'\n",
      "'東京 感染1日1000人超え現実味NEW','https://news.yahoo.co.jp/pickup/6391316'\n",
      "'シリアがイスラエル攻撃 報復もNEW','https://news.yahoo.co.jp/pickup/6391320'\n",
      "'東京など夏日予想 熱中症に注意','https://news.yahoo.co.jp/pickup/6391315'\n",
      "'CO2で4人死亡 誤信号で作動か','https://news.yahoo.co.jp/pickup/6391305'\n",
      "'柴又 道路拡幅で街並み一変か','https://news.yahoo.co.jp/pickup/6391306'\n",
      "'世界最高水準の人工光合成 成功NEW','https://news.yahoo.co.jp/pickup/6391318'\n",
      "'中村仁美 母も父も「えらい」NEW','https://news.yahoo.co.jp/pickup/6391319'\n"
     ]
    }
   ],
   "source": [
    "for element in elements:\n",
    "    text = element.getText()\n",
    "    link = element.attrs['href']\n",
    "    print( \"'{}','{}'\".format( text, link ) )"
   ]
  },
  {
   "cell_type": "code",
   "execution_count": null,
   "metadata": {},
   "outputs": [],
   "source": []
  }
 ],
 "metadata": {
  "kernelspec": {
   "display_name": "Python 3",
   "language": "python",
   "name": "python3"
  },
  "language_info": {
   "codemirror_mode": {
    "name": "ipython",
    "version": 3
   },
   "file_extension": ".py",
   "mimetype": "text/x-python",
   "name": "python",
   "nbconvert_exporter": "python",
   "pygments_lexer": "ipython3",
   "version": "3.8.3"
  }
 },
 "nbformat": 4,
 "nbformat_minor": 4
}
